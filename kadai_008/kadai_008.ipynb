{
  "nbformat": 4,
  "nbformat_minor": 0,
  "metadata": {
    "colab": {
      "provenance": []
    },
    "kernelspec": {
      "name": "python3",
      "display_name": "Python 3"
    },
    "language_info": {
      "name": "python"
    }
  },
  "cells": [
    {
      "cell_type": "code",
      "source": [
        "#ランダムな整数を利用するために、randomモジュールをインポート\n",
        "import random\n",
        "\n",
        "# 変数varに3～15までのランダムな整数を代入する\n",
        "var = random.randint(3, 15)\n",
        "\n",
        "# 変数varが、3の倍数の場合は「Fizz」を出力\n",
        "if var % 3 == 0:\n",
        "    print(\"Fizz\")\n",
        "else:\n",
        "    print(var)\n",
        "\n",
        "# 変数varが、5の倍数の場合は「Buzz」を出力\n",
        "if var % 5 == 0:\n",
        "    print(\"Buzz\")\n",
        "else:\n",
        "    print(var)\n",
        "\n",
        "# 変数varが、3の倍数と5の倍数の両方に該当する場合は「FizzBuzz」を出力\n",
        "if var % 3 == 0 and var % 5 == 0:\n",
        "    print(\"FizzBuzz\")\n",
        "else:\n",
        "    print(var)"
      ],
      "metadata": {
        "colab": {
          "base_uri": "https://localhost:8080/"
        },
        "id": "S7lr7SLoWUp7",
        "outputId": "8b5eae2e-3586-4ad4-8747-c7bb86af0aab"
      },
      "execution_count": 59,
      "outputs": [
        {
          "output_type": "stream",
          "name": "stdout",
          "text": [
            "Fizz\n",
            "Buzz\n",
            "FizzBuzz\n"
          ]
        }
      ]
    }
  ]
}