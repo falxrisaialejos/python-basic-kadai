{
  "nbformat": 4,
  "nbformat_minor": 0,
  "metadata": {
    "colab": {
      "provenance": []
    },
    "kernelspec": {
      "name": "python3",
      "display_name": "Python 3"
    },
    "language_info": {
      "name": "python"
    }
  },
  "cells": [
    {
      "cell_type": "code",
      "execution_count": null,
      "metadata": {
        "id": "vEX1zfOV0z4G"
      },
      "outputs": [],
      "source": [
        "# 価格\n",
        "price = 110\n",
        "# 税金\n",
        "tax = 10\n",
        "\n",
        "# 消費税を加えた計算結果を返す関数\n",
        "def calculate_total(price, tax):\n",
        "    # 価格+税金の合計額\n",
        "    total = price + (price * (tax / 100))\n",
        "\n",
        "    # 計算結果を戻り値として返す\n",
        "    return total\n",
        "\n",
        "# 関数を呼び出し、結果を出力する\n",
        "total_price = calculate_total(110, 10)\n",
        "print(f\"{total_price}円\")"
      ]
    }
  ]
}