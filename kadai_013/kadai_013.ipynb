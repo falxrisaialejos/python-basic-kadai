{
  "nbformat": 4,
  "nbformat_minor": 0,
  "metadata": {
    "colab": {
      "provenance": []
    },
    "kernelspec": {
      "name": "python3",
      "display_name": "Python 3"
    },
    "language_info": {
      "name": "python"
    }
  },
  "cells": [
    {
      "cell_type": "code",
      "execution_count": 1,
      "metadata": {
        "colab": {
          "base_uri": "https://localhost:8080/"
        },
        "id": "fgXBvHGXq4em",
        "outputId": "5fd4f2fa-d5bf-4fff-9bd7-dd6470517d5c"
      },
      "outputs": [
        {
          "output_type": "stream",
          "name": "stdout",
          "text": [
            "121.0円\n"
          ]
        }
      ],
      "source": [
        "# 消費税を加えた計算結果を返す関数を記述する\n",
        "def calculate_total(price):\n",
        "    # 与えられた引数priceに消費税を加算し、変数totalに代入する\n",
        "    total = price + (price * 0.10)\n",
        "\n",
        "    # 計算結果を戻り値として返す\n",
        "    return total\n",
        "\n",
        "# 関数を呼び出し、結果を出力する\n",
        "total_price = calculate_total(110)\n",
        "print(f\"{total_price}円\")\n"
      ]
    }
  ]
}