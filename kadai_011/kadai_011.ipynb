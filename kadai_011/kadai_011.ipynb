{
  "nbformat": 4,
  "nbformat_minor": 0,
  "metadata": {
    "colab": {
      "provenance": []
    },
    "kernelspec": {
      "name": "python3",
      "display_name": "Python 3"
    },
    "language_info": {
      "name": "python"
    }
  },
  "cells": [
    {
      "cell_type": "code",
      "execution_count": 1,
      "metadata": {
        "colab": {
          "base_uri": "https://localhost:8080/"
        },
        "id": "FKFtZueoiD9s",
        "outputId": "feefb024-1d64-4882-9432-186d37ab73a9"
      },
      "outputs": [
        {
          "output_type": "stream",
          "name": "stdout",
          "text": [
            "0 : 水\n",
            "1 : 金\n",
            "2 : 地\n",
            "3 : 火\n",
            "4 : 木\n",
            "5 : 土\n",
            "6 : 天\n",
            "7 : 海\n",
            "8 : 冥\n",
            "0 : 水\n",
            "1 : 金\n",
            "2 : 地\n",
            "3 : 火\n",
            "4 : 木\n",
            "5 : 土\n",
            "6 : 天\n",
            "7 : 海\n",
            "8 : 冥\n",
            "0 : 水\n",
            "1 : 金\n",
            "2 : 地\n",
            "3 : 火\n",
            "4 : 木\n",
            "5 : 土\n",
            "6 : 天\n",
            "7 : 海\n",
            "8 : 冥\n",
            "0 : 水\n",
            "1 : 金\n",
            "2 : 地\n",
            "3 : 火\n",
            "4 : 木\n",
            "5 : 土\n",
            "6 : 天\n",
            "7 : 海\n",
            "8 : 冥\n"
          ]
        }
      ],
      "source": [
        "array = [\"水\", \"金\", \"地\", \"火\", \"木\", \"土\", \"天\", \"海\", \"冥\"]\n",
        "\n",
        "# 2回ループする\n",
        "for _ in range(2):\n",
        "    for index, value in enumerate(array):\n",
        "        print(f\"{index} : {value}\")\n",
        "\n",
        "array = [\"水\", \"金\", \"地\", \"火\", \"木\", \"土\", \"天\", \"海\", \"冥\"]\n",
        "\n",
        "loop_count = 0  # 何回目のループかをカウント\n",
        "\n",
        "while loop_count < 2:\n",
        "    index = 0  # インデックスを初期化\n",
        "\n",
        "    while index < len(array):\n",
        "        print(f\"{index} : {array[index]}\")\n",
        "        index += 1\n",
        "\n",
        "    loop_count += 1"
      ]
    }
  ]
}