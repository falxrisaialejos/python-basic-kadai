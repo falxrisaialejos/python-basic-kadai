{
  "nbformat": 4,
  "nbformat_minor": 0,
  "metadata": {
    "colab": {
      "provenance": []
    },
    "kernelspec": {
      "name": "python3",
      "display_name": "Python 3"
    },
    "language_info": {
      "name": "python"
    }
  },
  "cells": [
    {
      "cell_type": "code",
      "execution_count": 2,
      "metadata": {
        "colab": {
          "base_uri": "https://localhost:8080/"
        },
        "id": "WKrVeXFSD8t_",
        "outputId": "646d5446-91a7-4b07-9f25-26a55adec8d9"
      },
      "outputs": [
        {
          "output_type": "stream",
          "name": "stdout",
          "text": [
            "75.0㎠\n"
          ]
        }
      ],
      "source": [
        "# 上辺：10cm\n",
        "# 下辺：20cm\n",
        "# 高さ：5cm\n",
        "# 面積：area\n",
        "# 公式：台形の面積 =（上辺＋下辺）× 高さ ÷ 2\n",
        "# area = (the_top_base + the_bottom_base) * height / 2)\n",
        "\n",
        "the_top_base = 10\n",
        "the_bottom_base = 20\n",
        "height = 5\n",
        "area = ((the_top_base + the_bottom_base) * height / 2)\n",
        "print(str(area) + \"㎠\")"
      ]
    }
  ]
}