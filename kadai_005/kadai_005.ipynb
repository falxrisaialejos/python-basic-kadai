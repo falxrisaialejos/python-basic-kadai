{
  "nbformat": 4,
  "nbformat_minor": 0,
  "metadata": {
    "colab": {
      "provenance": []
    },
    "kernelspec": {
      "name": "python3",
      "display_name": "Python 3"
    },
    "language_info": {
      "name": "python"
    }
  },
  "cells": [
    {
      "cell_type": "code",
      "execution_count": null,
      "metadata": {
        "colab": {
          "base_uri": "https://localhost:8080/"
        },
        "id": "KH0OSPkH6iXk",
        "outputId": "00999e9e-5a20-43b1-a3e5-1a7c58971ec7"
      },
      "outputs": [
        {
          "output_type": "stream",
          "name": "stdout",
          "text": [
            "3\n"
          ]
        }
      ],
      "source": [
        "print(1+2)"
      ]
    },
    {
      "cell_type": "code",
      "source": [
        "# 上辺：10cm\n",
        "# 下辺：20cm\n",
        "# 高さ：5cm\n",
        "\n",
        "# 公式：台形の面積 =（上辺＋下辺）× 高さ ÷ 2\n",
        "\n",
        "the_top_base = 10\n",
        "the_bottom_base = 20\n",
        "height = 5\n",
        "\n",
        "print((the_top_base + the_bottom_base) * height / 2)"
      ],
      "metadata": {
        "colab": {
          "base_uri": "https://localhost:8080/"
        },
        "id": "8sBGXDpf46L3",
        "outputId": "b718f9b2-ea8d-4a1b-959c-b1b8a5732474"
      },
      "execution_count": 3,
      "outputs": [
        {
          "output_type": "stream",
          "name": "stdout",
          "text": [
            "75.0\n"
          ]
        }
      ]
    },
    {
      "cell_type": "code",
      "source": [
        "age = 21 # 年齢(成人)\n",
        "\n",
        "if age < 20:\n",
        "    # 未成年の場合\n",
        "    print(\"ジュースで乾杯！\")\n",
        "else:\n",
        "    # 成年の場合\n",
        "    print(\"お酒で乾杯！\")"
      ],
      "metadata": {
        "colab": {
          "base_uri": "https://localhost:8080/"
        },
        "id": "IF_Op65w63SP",
        "outputId": "01b09172-30dc-48d7-c719-b628c38afa70"
      },
      "execution_count": null,
      "outputs": [
        {
          "output_type": "stream",
          "name": "stdout",
          "text": [
            "お酒で乾杯！\n"
          ]
        }
      ]
    },
    {
      "cell_type": "code",
      "source": [
        "age = 18 # 年齢\n",
        "\n",
        "if age < 20:\n",
        "    '''\n",
        "    # 未成年の場合\n",
        "    print(\"ジュースで乾杯！\")\n",
        "else:\n",
        "    '''\n",
        "    # 成年の場合\n",
        "    print(\"お酒で乾杯！\")"
      ],
      "metadata": {
        "colab": {
          "base_uri": "https://localhost:8080/"
        },
        "id": "CV60maNL8wiW",
        "outputId": "c9819925-adc1-4313-d2ff-dfbcceb12fac"
      },
      "execution_count": null,
      "outputs": [
        {
          "output_type": "stream",
          "name": "stdout",
          "text": [
            "お酒で乾杯！\n"
          ]
        }
      ]
    },
    {
      "cell_type": "code",
      "source": [
        "# 上辺：10cm\n",
        "# 下辺：20cm\n",
        "# 高さ：5cm\n",
        "\n",
        "# 公式：台形の面積 =（上辺＋下辺）× 高さ ÷ 2\n",
        "\n",
        "the_top_base = 10\n",
        "the_bottom_base = 20\n",
        "height = 5\n",
        "\n",
        "print(str((the_top_base + the_bottom_base) * height / 2) + \"㎠\")"
      ],
      "metadata": {
        "colab": {
          "base_uri": "https://localhost:8080/"
        },
        "id": "xRNZCQx57NZy",
        "outputId": "64fc0728-d8b1-40c5-cf83-d7282dc67b4e"
      },
      "execution_count": 17,
      "outputs": [
        {
          "output_type": "stream",
          "name": "stdout",
          "text": [
            "75.0㎠\n"
          ]
        }
      ]
    },
    {
      "cell_type": "code",
      "source": [],
      "metadata": {
        "id": "45bNOVcf7NGC"
      },
      "execution_count": null,
      "outputs": []
    }
  ]
}