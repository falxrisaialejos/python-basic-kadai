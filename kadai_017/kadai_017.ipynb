{
  "nbformat": 4,
  "nbformat_minor": 0,
  "metadata": {
    "colab": {
      "provenance": []
    },
    "kernelspec": {
      "name": "python3",
      "display_name": "Python 3"
    },
    "language_info": {
      "name": "python"
    }
  },
  "cells": [
    {
      "cell_type": "code",
      "execution_count": 1,
      "metadata": {
        "colab": {
          "base_uri": "https://localhost:8080/"
        },
        "id": "cXhrdSEl5hFf",
        "outputId": "a57fadef-9fad-48b5-aa12-0afdca51fe16"
      },
      "outputs": [
        {
          "output_type": "stream",
          "name": "stdout",
          "text": [
            "こんにちは、私は田中、25歳です。\n",
            "田中さんは大人です。\n",
            "---\n",
            "こんにちは、私は佐藤、18歳です。\n",
            "佐藤さんは大人ではありません。\n",
            "---\n",
            "こんにちは、私は鈴木、30歳です。\n",
            "鈴木さんは大人です。\n",
            "---\n",
            "こんにちは、私は高橋、15歳です。\n",
            "高橋さんは大人ではありません。\n",
            "---\n"
          ]
        }
      ],
      "source": [
        "# クラス定義\n",
        "class Human:\n",
        "    def __init__(self, name, age):\n",
        "        self.name = name\n",
        "        self.age = age\n",
        "\n",
        "    def introduce(self):\n",
        "        print(f\"こんにちは、私は{self.name}、{self.age}歳です。\")\n",
        "\n",
        "    def check_adult(self):\n",
        "        if self.age >= 20:\n",
        "            print(f\"{self.name}さんは大人です。\")\n",
        "        else:\n",
        "            print(f\"{self.name}さんは大人ではありません。\")\n",
        "\n",
        "# 関数：辞書のリストからHumanインスタンスのリストを作成\n",
        "def create_humans_from_data(data_list):\n",
        "    human_list = []  # ← これは関数内スコープの変数\n",
        "    for data in data_list:\n",
        "        human = Human(data[\"name\"], data[\"age\"])\n",
        "        human_list.append(human)\n",
        "    return human_list  # Humanインスタンスのリストを返す（戻り値）\n",
        "\n",
        "# ディクショナリ（辞書）のリストで人の情報を定義\n",
        "human_data_list = [\n",
        "    {\"name\": \"田中\", \"age\": 25},\n",
        "    {\"name\": \"佐藤\", \"age\": 18},\n",
        "    {\"name\": \"鈴木\", \"age\": 30},\n",
        "    {\"name\": \"高橋\", \"age\": 15}\n",
        "]\n",
        "\n",
        "# 関数を使ってHumanインスタンスのリストを作成\n",
        "human_list = create_humans_from_data(human_data_list)\n",
        "\n",
        "# 繰り返し処理で自己紹介と大人判定を実行\n",
        "for human in human_list:\n",
        "    human.introduce()\n",
        "    human.check_adult()\n",
        "    print(\"---\")\n"
      ]
    }
  ]
}